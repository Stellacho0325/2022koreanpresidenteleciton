{
 "cells": [
  {
   "cell_type": "markdown",
   "id": "5d2878e8",
   "metadata": {},
   "source": [
    "# Election Visualisation"
   ]
  },
  {
   "cell_type": "code",
   "execution_count": 1,
   "id": "9907c8f2",
   "metadata": {},
   "outputs": [],
   "source": [
    "import pandas as pd\n",
    "import numpy as np\n",
    "import matplotlib.pyplot as plt"
   ]
  },
  {
   "cell_type": "code",
   "execution_count": 2,
   "id": "4c96b64d",
   "metadata": {},
   "outputs": [
    {
     "data": {
      "text/html": [
       "<div>\n",
       "<style scoped>\n",
       "    .dataframe tbody tr th:only-of-type {\n",
       "        vertical-align: middle;\n",
       "    }\n",
       "\n",
       "    .dataframe tbody tr th {\n",
       "        vertical-align: top;\n",
       "    }\n",
       "\n",
       "    .dataframe thead th {\n",
       "        text-align: right;\n",
       "    }\n",
       "</style>\n",
       "<table border=\"1\" class=\"dataframe\">\n",
       "  <thead>\n",
       "    <tr style=\"text-align: right;\">\n",
       "      <th></th>\n",
       "      <th>광역시도</th>\n",
       "      <th>시군구</th>\n",
       "      <th>선거인수</th>\n",
       "      <th>투표수</th>\n",
       "      <th>이재명</th>\n",
       "      <th>윤석열</th>\n",
       "      <th>심상정</th>\n",
       "    </tr>\n",
       "  </thead>\n",
       "  <tbody>\n",
       "    <tr>\n",
       "      <th>0</th>\n",
       "      <td>서울특별시</td>\n",
       "      <td>종로구</td>\n",
       "      <td>129968</td>\n",
       "      <td>100629</td>\n",
       "      <td>46130</td>\n",
       "      <td>49172</td>\n",
       "      <td>3115</td>\n",
       "    </tr>\n",
       "    <tr>\n",
       "      <th>1</th>\n",
       "      <td>서울특별시</td>\n",
       "      <td>중구</td>\n",
       "      <td>111448</td>\n",
       "      <td>84998</td>\n",
       "      <td>38244</td>\n",
       "      <td>42906</td>\n",
       "      <td>2310</td>\n",
       "    </tr>\n",
       "    <tr>\n",
       "      <th>2</th>\n",
       "      <td>서울특별시</td>\n",
       "      <td>용산구</td>\n",
       "      <td>199077</td>\n",
       "      <td>152068</td>\n",
       "      <td>60063</td>\n",
       "      <td>85047</td>\n",
       "      <td>4374</td>\n",
       "    </tr>\n",
       "    <tr>\n",
       "      <th>3</th>\n",
       "      <td>서울특별시</td>\n",
       "      <td>성동구</td>\n",
       "      <td>252087</td>\n",
       "      <td>197240</td>\n",
       "      <td>84411</td>\n",
       "      <td>103880</td>\n",
       "      <td>5365</td>\n",
       "    </tr>\n",
       "    <tr>\n",
       "      <th>4</th>\n",
       "      <td>서울특별시</td>\n",
       "      <td>광진구</td>\n",
       "      <td>303582</td>\n",
       "      <td>235471</td>\n",
       "      <td>109922</td>\n",
       "      <td>113733</td>\n",
       "      <td>7072</td>\n",
       "    </tr>\n",
       "  </tbody>\n",
       "</table>\n",
       "</div>"
      ],
      "text/plain": [
       "    광역시도  시군구    선거인수     투표수     이재명     윤석열   심상정\n",
       "0  서울특별시  종로구  129968  100629   46130   49172  3115\n",
       "1  서울특별시   중구  111448   84998   38244   42906  2310\n",
       "2  서울특별시  용산구  199077  152068   60063   85047  4374\n",
       "3  서울특별시  성동구  252087  197240   84411  103880  5365\n",
       "4  서울특별시  광진구  303582  235471  109922  113733  7072"
      ]
     },
     "execution_count": 2,
     "metadata": {},
     "output_type": "execute_result"
    }
   ],
   "source": [
    "# Load Data\n",
    "election = pd.read_csv(\"../Data/election_2022.csv\")\n",
    "election.head()"
   ]
  },
  {
   "cell_type": "code",
   "execution_count": 3,
   "id": "5b2392a8",
   "metadata": {},
   "outputs": [
    {
     "data": {
      "text/html": [
       "<div>\n",
       "<style scoped>\n",
       "    .dataframe tbody tr th:only-of-type {\n",
       "        vertical-align: middle;\n",
       "    }\n",
       "\n",
       "    .dataframe tbody tr th {\n",
       "        vertical-align: top;\n",
       "    }\n",
       "\n",
       "    .dataframe thead th {\n",
       "        text-align: right;\n",
       "    }\n",
       "</style>\n",
       "<table border=\"1\" class=\"dataframe\">\n",
       "  <thead>\n",
       "    <tr style=\"text-align: right;\">\n",
       "      <th></th>\n",
       "      <th>광역시도</th>\n",
       "      <th>시군구</th>\n",
       "      <th>선거인수</th>\n",
       "      <th>투표수</th>\n",
       "      <th>이재명</th>\n",
       "      <th>윤석열</th>\n",
       "      <th>심상정</th>\n",
       "    </tr>\n",
       "  </thead>\n",
       "  <tbody>\n",
       "    <tr>\n",
       "      <th>243</th>\n",
       "      <td>경상남도</td>\n",
       "      <td>산청군</td>\n",
       "      <td>31645</td>\n",
       "      <td>24913</td>\n",
       "      <td>7125</td>\n",
       "      <td>16607</td>\n",
       "      <td>464</td>\n",
       "    </tr>\n",
       "    <tr>\n",
       "      <th>244</th>\n",
       "      <td>경상남도</td>\n",
       "      <td>거창군</td>\n",
       "      <td>53049</td>\n",
       "      <td>41399</td>\n",
       "      <td>11963</td>\n",
       "      <td>27254</td>\n",
       "      <td>895</td>\n",
       "    </tr>\n",
       "    <tr>\n",
       "      <th>245</th>\n",
       "      <td>경상남도</td>\n",
       "      <td>합천군</td>\n",
       "      <td>39768</td>\n",
       "      <td>31270</td>\n",
       "      <td>6911</td>\n",
       "      <td>22742</td>\n",
       "      <td>511</td>\n",
       "    </tr>\n",
       "    <tr>\n",
       "      <th>246</th>\n",
       "      <td>제주특별자치도</td>\n",
       "      <td>제주시</td>\n",
       "      <td>408552</td>\n",
       "      <td>296826</td>\n",
       "      <td>157695</td>\n",
       "      <td>122084</td>\n",
       "      <td>10007</td>\n",
       "    </tr>\n",
       "    <tr>\n",
       "      <th>247</th>\n",
       "      <td>제주특별자치도</td>\n",
       "      <td>서귀포시</td>\n",
       "      <td>155802</td>\n",
       "      <td>112823</td>\n",
       "      <td>55435</td>\n",
       "      <td>50930</td>\n",
       "      <td>3591</td>\n",
       "    </tr>\n",
       "  </tbody>\n",
       "</table>\n",
       "</div>"
      ],
      "text/plain": [
       "        광역시도   시군구    선거인수     투표수     이재명     윤석열    심상정\n",
       "243     경상남도   산청군   31645   24913    7125   16607    464\n",
       "244     경상남도   거창군   53049   41399   11963   27254    895\n",
       "245     경상남도   합천군   39768   31270    6911   22742    511\n",
       "246  제주특별자치도   제주시  408552  296826  157695  122084  10007\n",
       "247  제주특별자치도  서귀포시  155802  112823   55435   50930   3591"
      ]
     },
     "execution_count": 3,
     "metadata": {},
     "output_type": "execute_result"
    }
   ],
   "source": [
    "election.tail()"
   ]
  },
  {
   "cell_type": "code",
   "execution_count": 4,
   "id": "13e53f6f",
   "metadata": {},
   "outputs": [
    {
     "data": {
      "text/html": [
       "<div>\n",
       "<style scoped>\n",
       "    .dataframe tbody tr th:only-of-type {\n",
       "        vertical-align: middle;\n",
       "    }\n",
       "\n",
       "    .dataframe tbody tr th {\n",
       "        vertical-align: top;\n",
       "    }\n",
       "\n",
       "    .dataframe thead th {\n",
       "        text-align: right;\n",
       "    }\n",
       "</style>\n",
       "<table border=\"1\" class=\"dataframe\">\n",
       "  <thead>\n",
       "    <tr style=\"text-align: right;\">\n",
       "      <th></th>\n",
       "      <th>선거인수</th>\n",
       "      <th>투표수</th>\n",
       "      <th>이재명</th>\n",
       "      <th>윤석열</th>\n",
       "      <th>심상정</th>\n",
       "    </tr>\n",
       "  </thead>\n",
       "  <tbody>\n",
       "    <tr>\n",
       "      <th>count</th>\n",
       "      <td>248.000000</td>\n",
       "      <td>248.000000</td>\n",
       "      <td>248.000000</td>\n",
       "      <td>248.000000</td>\n",
       "      <td>248.000000</td>\n",
       "    </tr>\n",
       "    <tr>\n",
       "      <th>mean</th>\n",
       "      <td>176570.540323</td>\n",
       "      <td>136147.838710</td>\n",
       "      <td>64479.104839</td>\n",
       "      <td>65566.290323</td>\n",
       "      <td>3215.532258</td>\n",
       "    </tr>\n",
       "    <tr>\n",
       "      <th>std</th>\n",
       "      <td>141049.731983</td>\n",
       "      <td>108569.706317</td>\n",
       "      <td>56875.864428</td>\n",
       "      <td>56766.365763</td>\n",
       "      <td>2893.695797</td>\n",
       "    </tr>\n",
       "    <tr>\n",
       "      <th>min</th>\n",
       "      <td>8141.000000</td>\n",
       "      <td>6653.000000</td>\n",
       "      <td>1590.000000</td>\n",
       "      <td>2052.000000</td>\n",
       "      <td>109.000000</td>\n",
       "    </tr>\n",
       "    <tr>\n",
       "      <th>25%</th>\n",
       "      <td>47671.500000</td>\n",
       "      <td>39215.750000</td>\n",
       "      <td>17363.000000</td>\n",
       "      <td>18223.000000</td>\n",
       "      <td>709.000000</td>\n",
       "    </tr>\n",
       "    <tr>\n",
       "      <th>50%</th>\n",
       "      <td>154353.500000</td>\n",
       "      <td>114654.000000</td>\n",
       "      <td>48797.000000</td>\n",
       "      <td>50341.000000</td>\n",
       "      <td>2617.500000</td>\n",
       "    </tr>\n",
       "    <tr>\n",
       "      <th>75%</th>\n",
       "      <td>265099.250000</td>\n",
       "      <td>204189.250000</td>\n",
       "      <td>99830.750000</td>\n",
       "      <td>101949.750000</td>\n",
       "      <td>5041.000000</td>\n",
       "    </tr>\n",
       "    <tr>\n",
       "      <th>max</th>\n",
       "      <td>703896.000000</td>\n",
       "      <td>542027.000000</td>\n",
       "      <td>285227.000000</td>\n",
       "      <td>275155.000000</td>\n",
       "      <td>13249.000000</td>\n",
       "    </tr>\n",
       "  </tbody>\n",
       "</table>\n",
       "</div>"
      ],
      "text/plain": [
       "                선거인수            투표수            이재명            윤석열  \\\n",
       "count     248.000000     248.000000     248.000000     248.000000   \n",
       "mean   176570.540323  136147.838710   64479.104839   65566.290323   \n",
       "std    141049.731983  108569.706317   56875.864428   56766.365763   \n",
       "min      8141.000000    6653.000000    1590.000000    2052.000000   \n",
       "25%     47671.500000   39215.750000   17363.000000   18223.000000   \n",
       "50%    154353.500000  114654.000000   48797.000000   50341.000000   \n",
       "75%    265099.250000  204189.250000   99830.750000  101949.750000   \n",
       "max    703896.000000  542027.000000  285227.000000  275155.000000   \n",
       "\n",
       "                심상정  \n",
       "count    248.000000  \n",
       "mean    3215.532258  \n",
       "std     2893.695797  \n",
       "min      109.000000  \n",
       "25%      709.000000  \n",
       "50%     2617.500000  \n",
       "75%     5041.000000  \n",
       "max    13249.000000  "
      ]
     },
     "execution_count": 4,
     "metadata": {},
     "output_type": "execute_result"
    }
   ],
   "source": [
    "# Check basic statistics\n",
    "\n",
    "election.describe()"
   ]
  },
  {
   "cell_type": "code",
   "execution_count": 5,
   "id": "83aa9920",
   "metadata": {},
   "outputs": [
    {
     "data": {
      "text/plain": [
       "Index(['광역시도', '시군구', '선거인수', '투표수', '이재명', '윤석열', '심상정'], dtype='object')"
      ]
     },
     "execution_count": 5,
     "metadata": {},
     "output_type": "execute_result"
    }
   ],
   "source": [
    "# Check column names\n",
    "\n",
    "election.columns"
   ]
  },
  {
   "cell_type": "code",
   "execution_count": 6,
   "id": "acbbd58a",
   "metadata": {},
   "outputs": [
    {
     "data": {
      "text/plain": [
       "(248, 7)"
      ]
     },
     "execution_count": 6,
     "metadata": {},
     "output_type": "execute_result"
    }
   ],
   "source": [
    "# Check dimensions\n",
    "election.shape"
   ]
  },
  {
   "cell_type": "code",
   "execution_count": 7,
   "id": "0b1c865d",
   "metadata": {},
   "outputs": [
    {
     "name": "stdout",
     "output_type": "stream",
     "text": [
      "<class 'pandas.core.frame.DataFrame'>\n",
      "RangeIndex: 248 entries, 0 to 247\n",
      "Data columns (total 7 columns):\n",
      " #   Column  Non-Null Count  Dtype \n",
      "---  ------  --------------  ----- \n",
      " 0   광역시도    248 non-null    object\n",
      " 1   시군구     248 non-null    object\n",
      " 2   선거인수    248 non-null    int64 \n",
      " 3   투표수     248 non-null    int64 \n",
      " 4   이재명     248 non-null    int64 \n",
      " 5   윤석열     248 non-null    int64 \n",
      " 6   심상정     248 non-null    int64 \n",
      "dtypes: int64(5), object(2)\n",
      "memory usage: 13.7+ KB\n"
     ]
    }
   ],
   "source": [
    "# Check data types by column\n",
    "election.info()"
   ]
  },
  {
   "cell_type": "code",
   "execution_count": 8,
   "id": "29bce3f6",
   "metadata": {},
   "outputs": [
    {
     "data": {
      "text/plain": [
       "광역시도    0\n",
       "시군구     0\n",
       "선거인수    0\n",
       "투표수     0\n",
       "이재명     0\n",
       "윤석열     0\n",
       "심상정     0\n",
       "dtype: int64"
      ]
     },
     "execution_count": 8,
     "metadata": {},
     "output_type": "execute_result"
    }
   ],
   "source": [
    "# Check for NaN\n",
    "election.isnull().sum()"
   ]
  },
  {
   "cell_type": "markdown",
   "id": "e2ff6d36",
   "metadata": {},
   "source": [
    "> DataSet에는 Nan이 없음"
   ]
  },
  {
   "cell_type": "code",
   "execution_count": 9,
   "id": "3bd3aed4",
   "metadata": {},
   "outputs": [
    {
     "data": {
      "text/html": [
       "<div>\n",
       "<style scoped>\n",
       "    .dataframe tbody tr th:only-of-type {\n",
       "        vertical-align: middle;\n",
       "    }\n",
       "\n",
       "    .dataframe tbody tr th {\n",
       "        vertical-align: top;\n",
       "    }\n",
       "\n",
       "    .dataframe thead th {\n",
       "        text-align: right;\n",
       "    }\n",
       "</style>\n",
       "<table border=\"1\" class=\"dataframe\">\n",
       "  <thead>\n",
       "    <tr style=\"text-align: right;\">\n",
       "      <th></th>\n",
       "      <th>광역시도</th>\n",
       "      <th>시군구</th>\n",
       "      <th>선거인수</th>\n",
       "      <th>투표수</th>\n",
       "      <th>이재명</th>\n",
       "      <th>윤석열</th>\n",
       "      <th>심상정</th>\n",
       "      <th>electionSum</th>\n",
       "    </tr>\n",
       "  </thead>\n",
       "  <tbody>\n",
       "    <tr>\n",
       "      <th>0</th>\n",
       "      <td>서울특별시</td>\n",
       "      <td>종로구</td>\n",
       "      <td>129968</td>\n",
       "      <td>100629</td>\n",
       "      <td>46130</td>\n",
       "      <td>49172</td>\n",
       "      <td>3115</td>\n",
       "      <td>98417</td>\n",
       "    </tr>\n",
       "    <tr>\n",
       "      <th>1</th>\n",
       "      <td>서울특별시</td>\n",
       "      <td>중구</td>\n",
       "      <td>111448</td>\n",
       "      <td>84998</td>\n",
       "      <td>38244</td>\n",
       "      <td>42906</td>\n",
       "      <td>2310</td>\n",
       "      <td>83460</td>\n",
       "    </tr>\n",
       "    <tr>\n",
       "      <th>2</th>\n",
       "      <td>서울특별시</td>\n",
       "      <td>용산구</td>\n",
       "      <td>199077</td>\n",
       "      <td>152068</td>\n",
       "      <td>60063</td>\n",
       "      <td>85047</td>\n",
       "      <td>4374</td>\n",
       "      <td>149484</td>\n",
       "    </tr>\n",
       "    <tr>\n",
       "      <th>3</th>\n",
       "      <td>서울특별시</td>\n",
       "      <td>성동구</td>\n",
       "      <td>252087</td>\n",
       "      <td>197240</td>\n",
       "      <td>84411</td>\n",
       "      <td>103880</td>\n",
       "      <td>5365</td>\n",
       "      <td>193656</td>\n",
       "    </tr>\n",
       "    <tr>\n",
       "      <th>4</th>\n",
       "      <td>서울특별시</td>\n",
       "      <td>광진구</td>\n",
       "      <td>303582</td>\n",
       "      <td>235471</td>\n",
       "      <td>109922</td>\n",
       "      <td>113733</td>\n",
       "      <td>7072</td>\n",
       "      <td>230727</td>\n",
       "    </tr>\n",
       "  </tbody>\n",
       "</table>\n",
       "</div>"
      ],
      "text/plain": [
       "    광역시도  시군구    선거인수     투표수     이재명     윤석열   심상정  electionSum\n",
       "0  서울특별시  종로구  129968  100629   46130   49172  3115        98417\n",
       "1  서울특별시   중구  111448   84998   38244   42906  2310        83460\n",
       "2  서울특별시  용산구  199077  152068   60063   85047  4374       149484\n",
       "3  서울특별시  성동구  252087  197240   84411  103880  5365       193656\n",
       "4  서울특별시  광진구  303582  235471  109922  113733  7072       230727"
      ]
     },
     "execution_count": 9,
     "metadata": {},
     "output_type": "execute_result"
    }
   ],
   "source": [
    "# electionSum = Yoon Suk-yeol + Lee Jae-myung + Sim Sang-jung\n",
    "\n",
    "election['electionSum'] = election[['윤석열', '이재명','심상정']].sum(axis=1)\n",
    "election.head()"
   ]
  },
  {
   "cell_type": "code",
   "execution_count": 10,
   "id": "14a4378d",
   "metadata": {},
   "outputs": [
    {
     "data": {
      "text/html": [
       "<div>\n",
       "<style scoped>\n",
       "    .dataframe tbody tr th:only-of-type {\n",
       "        vertical-align: middle;\n",
       "    }\n",
       "\n",
       "    .dataframe tbody tr th {\n",
       "        vertical-align: top;\n",
       "    }\n",
       "\n",
       "    .dataframe thead th {\n",
       "        text-align: right;\n",
       "    }\n",
       "</style>\n",
       "<table border=\"1\" class=\"dataframe\">\n",
       "  <thead>\n",
       "    <tr style=\"text-align: right;\">\n",
       "      <th></th>\n",
       "      <th>광역시도</th>\n",
       "      <th>시군구</th>\n",
       "      <th>선거인수</th>\n",
       "      <th>투표수</th>\n",
       "      <th>이재명</th>\n",
       "      <th>윤석열</th>\n",
       "      <th>심상정</th>\n",
       "      <th>electionSum</th>\n",
       "      <th>electionRatio</th>\n",
       "    </tr>\n",
       "  </thead>\n",
       "  <tbody>\n",
       "    <tr>\n",
       "      <th>0</th>\n",
       "      <td>서울특별시</td>\n",
       "      <td>종로구</td>\n",
       "      <td>129968</td>\n",
       "      <td>100629</td>\n",
       "      <td>46130</td>\n",
       "      <td>49172</td>\n",
       "      <td>3115</td>\n",
       "      <td>98417</td>\n",
       "      <td>97.80</td>\n",
       "    </tr>\n",
       "    <tr>\n",
       "      <th>1</th>\n",
       "      <td>서울특별시</td>\n",
       "      <td>중구</td>\n",
       "      <td>111448</td>\n",
       "      <td>84998</td>\n",
       "      <td>38244</td>\n",
       "      <td>42906</td>\n",
       "      <td>2310</td>\n",
       "      <td>83460</td>\n",
       "      <td>98.19</td>\n",
       "    </tr>\n",
       "    <tr>\n",
       "      <th>2</th>\n",
       "      <td>서울특별시</td>\n",
       "      <td>용산구</td>\n",
       "      <td>199077</td>\n",
       "      <td>152068</td>\n",
       "      <td>60063</td>\n",
       "      <td>85047</td>\n",
       "      <td>4374</td>\n",
       "      <td>149484</td>\n",
       "      <td>98.30</td>\n",
       "    </tr>\n",
       "    <tr>\n",
       "      <th>3</th>\n",
       "      <td>서울특별시</td>\n",
       "      <td>성동구</td>\n",
       "      <td>252087</td>\n",
       "      <td>197240</td>\n",
       "      <td>84411</td>\n",
       "      <td>103880</td>\n",
       "      <td>5365</td>\n",
       "      <td>193656</td>\n",
       "      <td>98.18</td>\n",
       "    </tr>\n",
       "    <tr>\n",
       "      <th>4</th>\n",
       "      <td>서울특별시</td>\n",
       "      <td>광진구</td>\n",
       "      <td>303582</td>\n",
       "      <td>235471</td>\n",
       "      <td>109922</td>\n",
       "      <td>113733</td>\n",
       "      <td>7072</td>\n",
       "      <td>230727</td>\n",
       "      <td>97.99</td>\n",
       "    </tr>\n",
       "  </tbody>\n",
       "</table>\n",
       "</div>"
      ],
      "text/plain": [
       "    광역시도  시군구    선거인수     투표수     이재명     윤석열   심상정  electionSum  \\\n",
       "0  서울특별시  종로구  129968  100629   46130   49172  3115        98417   \n",
       "1  서울특별시   중구  111448   84998   38244   42906  2310        83460   \n",
       "2  서울특별시  용산구  199077  152068   60063   85047  4374       149484   \n",
       "3  서울특별시  성동구  252087  197240   84411  103880  5365       193656   \n",
       "4  서울특별시  광진구  303582  235471  109922  113733  7072       230727   \n",
       "\n",
       "   electionRatio  \n",
       "0          97.80  \n",
       "1          98.19  \n",
       "2          98.30  \n",
       "3          98.18  \n",
       "4          97.99  "
      ]
     },
     "execution_count": 10,
     "metadata": {},
     "output_type": "execute_result"
    }
   ],
   "source": [
    "# What percentage is electionSum of the total votes?\n",
    "\n",
    "election['electionRatio'] = round(election['electionSum'] / election['투표수'] * 100, 2)\n",
    "election.head()"
   ]
  },
  {
   "cell_type": "code",
   "execution_count": 11,
   "id": "554f44e1",
   "metadata": {},
   "outputs": [],
   "source": [
    "# Save as CSV: election_2022_job.csv\n",
    "\n",
    "election.to_csv(\"../Data/election_2022_job.csv\", index=False)"
   ]
  },
  {
   "cell_type": "code",
   "execution_count": 12,
   "id": "bd6381f8",
   "metadata": {},
   "outputs": [],
   "source": [
    "# OS information\n",
    "import platform\n",
    "\n",
    "# font_manager: Font management module\n",
    "# rc: Font change module\n",
    "from matplotlib import font_manager, rc\n",
    "\n",
    "# Unicode settings\n",
    "plt.rcParams['axes.unicode_minus'] = False\n",
    "\n",
    "if platform.system() == 'Darwin':\n",
    "    rc('font', family='AppleGothic') # os가 macos\n",
    "elif platform.system() == 'Windows':\n",
    "    path = 'c:/Windows/Fonts/malgun.ttf' # os가 windows\n",
    "    font_name = font_manager.FontProperties(fname=path).get_name()\n",
    "    rc('font', family=font_name)\n",
    "else:\n",
    "    print(\"Unknown System\")"
   ]
  },
  {
   "cell_type": "code",
   "execution_count": 13,
   "id": "ea0b5af0",
   "metadata": {},
   "outputs": [
    {
     "data": {
      "text/html": [
       "<div>\n",
       "<style scoped>\n",
       "    .dataframe tbody tr th:only-of-type {\n",
       "        vertical-align: middle;\n",
       "    }\n",
       "\n",
       "    .dataframe tbody tr th {\n",
       "        vertical-align: top;\n",
       "    }\n",
       "\n",
       "    .dataframe thead th {\n",
       "        text-align: right;\n",
       "    }\n",
       "</style>\n",
       "<table border=\"1\" class=\"dataframe\">\n",
       "  <thead>\n",
       "    <tr style=\"text-align: right;\">\n",
       "      <th></th>\n",
       "      <th>광역시도</th>\n",
       "      <th>시군구</th>\n",
       "      <th>선거인수</th>\n",
       "      <th>투표수</th>\n",
       "      <th>이재명</th>\n",
       "      <th>윤석열</th>\n",
       "      <th>심상정</th>\n",
       "      <th>electionSum</th>\n",
       "      <th>electionRatio</th>\n",
       "    </tr>\n",
       "  </thead>\n",
       "  <tbody>\n",
       "    <tr>\n",
       "      <th>0</th>\n",
       "      <td>서울특별시</td>\n",
       "      <td>종로구</td>\n",
       "      <td>129968</td>\n",
       "      <td>100629</td>\n",
       "      <td>46130</td>\n",
       "      <td>49172</td>\n",
       "      <td>3115</td>\n",
       "      <td>98417</td>\n",
       "      <td>97.80</td>\n",
       "    </tr>\n",
       "    <tr>\n",
       "      <th>1</th>\n",
       "      <td>서울특별시</td>\n",
       "      <td>중구</td>\n",
       "      <td>111448</td>\n",
       "      <td>84998</td>\n",
       "      <td>38244</td>\n",
       "      <td>42906</td>\n",
       "      <td>2310</td>\n",
       "      <td>83460</td>\n",
       "      <td>98.19</td>\n",
       "    </tr>\n",
       "    <tr>\n",
       "      <th>2</th>\n",
       "      <td>서울특별시</td>\n",
       "      <td>용산구</td>\n",
       "      <td>199077</td>\n",
       "      <td>152068</td>\n",
       "      <td>60063</td>\n",
       "      <td>85047</td>\n",
       "      <td>4374</td>\n",
       "      <td>149484</td>\n",
       "      <td>98.30</td>\n",
       "    </tr>\n",
       "    <tr>\n",
       "      <th>3</th>\n",
       "      <td>서울특별시</td>\n",
       "      <td>성동구</td>\n",
       "      <td>252087</td>\n",
       "      <td>197240</td>\n",
       "      <td>84411</td>\n",
       "      <td>103880</td>\n",
       "      <td>5365</td>\n",
       "      <td>193656</td>\n",
       "      <td>98.18</td>\n",
       "    </tr>\n",
       "    <tr>\n",
       "      <th>4</th>\n",
       "      <td>서울특별시</td>\n",
       "      <td>광진구</td>\n",
       "      <td>303582</td>\n",
       "      <td>235471</td>\n",
       "      <td>109922</td>\n",
       "      <td>113733</td>\n",
       "      <td>7072</td>\n",
       "      <td>230727</td>\n",
       "      <td>97.99</td>\n",
       "    </tr>\n",
       "  </tbody>\n",
       "</table>\n",
       "</div>"
      ],
      "text/plain": [
       "    광역시도  시군구    선거인수     투표수     이재명     윤석열   심상정  electionSum  \\\n",
       "0  서울특별시  종로구  129968  100629   46130   49172  3115        98417   \n",
       "1  서울특별시   중구  111448   84998   38244   42906  2310        83460   \n",
       "2  서울특별시  용산구  199077  152068   60063   85047  4374       149484   \n",
       "3  서울특별시  성동구  252087  197240   84411  103880  5365       193656   \n",
       "4  서울특별시  광진구  303582  235471  109922  113733  7072       230727   \n",
       "\n",
       "   electionRatio  \n",
       "0          97.80  \n",
       "1          98.19  \n",
       "2          98.30  \n",
       "3          98.18  \n",
       "4          97.99  "
      ]
     },
     "execution_count": 13,
     "metadata": {},
     "output_type": "execute_result"
    }
   ],
   "source": [
    "election.head()"
   ]
  },
  {
   "cell_type": "code",
   "execution_count": 14,
   "id": "8cd67133",
   "metadata": {},
   "outputs": [
    {
     "data": {
      "text/html": [
       "<div>\n",
       "<style scoped>\n",
       "    .dataframe tbody tr th:only-of-type {\n",
       "        vertical-align: middle;\n",
       "    }\n",
       "\n",
       "    .dataframe tbody tr th {\n",
       "        vertical-align: top;\n",
       "    }\n",
       "\n",
       "    .dataframe thead th {\n",
       "        text-align: right;\n",
       "    }\n",
       "</style>\n",
       "<table border=\"1\" class=\"dataframe\">\n",
       "  <thead>\n",
       "    <tr style=\"text-align: right;\">\n",
       "      <th></th>\n",
       "      <th>투표수</th>\n",
       "    </tr>\n",
       "    <tr>\n",
       "      <th>광역시도</th>\n",
       "      <th></th>\n",
       "    </tr>\n",
       "  </thead>\n",
       "  <tbody>\n",
       "    <tr>\n",
       "      <th>강원도</th>\n",
       "      <td>1015458</td>\n",
       "    </tr>\n",
       "    <tr>\n",
       "      <th>경기도</th>\n",
       "      <td>8518854</td>\n",
       "    </tr>\n",
       "    <tr>\n",
       "      <th>경상남도</th>\n",
       "      <td>2146882</td>\n",
       "    </tr>\n",
       "    <tr>\n",
       "      <th>경상북도</th>\n",
       "      <td>1774284</td>\n",
       "    </tr>\n",
       "    <tr>\n",
       "      <th>광주광역시</th>\n",
       "      <td>985492</td>\n",
       "    </tr>\n",
       "  </tbody>\n",
       "</table>\n",
       "</div>"
      ],
      "text/plain": [
       "           투표수\n",
       "광역시도          \n",
       "강원도    1015458\n",
       "경기도    8518854\n",
       "경상남도   2146882\n",
       "경상북도   1774284\n",
       "광주광역시   985492"
      ]
     },
     "execution_count": 14,
     "metadata": {},
     "output_type": "execute_result"
    }
   ],
   "source": [
    "# Use pivot to aggregate and group by total votes by metropolitan city and province\n",
    "elec_sum = election.pivot_table('투표수', index='광역시도', aggfunc=sum)\n",
    "elec_sum.head()"
   ]
  },
  {
   "cell_type": "code",
   "execution_count": 15,
   "id": "e42328e8",
   "metadata": {},
   "outputs": [
    {
     "data": {
      "text/html": [
       "<div>\n",
       "<style scoped>\n",
       "    .dataframe tbody tr th:only-of-type {\n",
       "        vertical-align: middle;\n",
       "    }\n",
       "\n",
       "    .dataframe tbody tr th {\n",
       "        vertical-align: top;\n",
       "    }\n",
       "\n",
       "    .dataframe thead th {\n",
       "        text-align: right;\n",
       "    }\n",
       "</style>\n",
       "<table border=\"1\" class=\"dataframe\">\n",
       "  <thead>\n",
       "    <tr style=\"text-align: right;\">\n",
       "      <th></th>\n",
       "      <th>투표수</th>\n",
       "    </tr>\n",
       "    <tr>\n",
       "      <th>광역시도</th>\n",
       "      <th></th>\n",
       "    </tr>\n",
       "  </thead>\n",
       "  <tbody>\n",
       "    <tr>\n",
       "      <th>경기도</th>\n",
       "      <td>8518854</td>\n",
       "    </tr>\n",
       "    <tr>\n",
       "      <th>서울특별시</th>\n",
       "      <td>6501831</td>\n",
       "    </tr>\n",
       "    <tr>\n",
       "      <th>부산광역시</th>\n",
       "      <td>2200224</td>\n",
       "    </tr>\n",
       "    <tr>\n",
       "      <th>경상남도</th>\n",
       "      <td>2146882</td>\n",
       "    </tr>\n",
       "    <tr>\n",
       "      <th>인천광역시</th>\n",
       "      <td>1883504</td>\n",
       "    </tr>\n",
       "  </tbody>\n",
       "</table>\n",
       "</div>"
      ],
      "text/plain": [
       "           투표수\n",
       "광역시도          \n",
       "경기도    8518854\n",
       "서울특별시  6501831\n",
       "부산광역시  2200224\n",
       "경상남도   2146882\n",
       "인천광역시  1883504"
      ]
     },
     "execution_count": 15,
     "metadata": {},
     "output_type": "execute_result"
    }
   ],
   "source": [
    "# Sort by total votes in descending order\n",
    "\n",
    "elec_sum_order = elec_sum.sort_values(by='투표수', ascending=False)\n",
    "elec_sum_order.head()"
   ]
  },
  {
   "cell_type": "code",
   "execution_count": 16,
   "id": "ce202883",
   "metadata": {},
   "outputs": [
    {
     "data": {
      "text/plain": [
       "50.06"
      ]
     },
     "execution_count": 16,
     "metadata": {},
     "output_type": "execute_result"
    }
   ],
   "source": [
    "# What percentage of the total voting population is in the metropolitan area \n",
    "#(Gyeonggi, Seoul, Incheon)?\n",
    "round(elec_sum_order['투표수'][[0,1,4]].sum() / \\\n",
    "elec_sum_order['투표수'].sum() * 100, 2)"
   ]
  },
  {
   "cell_type": "code",
   "execution_count": 17,
   "id": "00515406",
   "metadata": {},
   "outputs": [
    {
     "data": {
      "image/png": "[encoded data removed]",
      "text/plain": [
       "<Figure size 504x360 with 1 Axes>"
      ]
     },
     "metadata": {},
     "output_type": "display_data"
    }
   ],
   "source": [
    "elec_sum_order['투표수'].plot(kind='pie',\n",
    "                          figsize=(7,5),\n",
    "                           autopct='%.2f%%'\n",
    "                          )\n",
    "plt.title('광역시도별 투표율')\n",
    "plt.show()"
   ]
  },
  {
   "cell_type": "code",
   "execution_count": 18,
   "id": "dc737537",
   "metadata": {},
   "outputs": [
    {
     "data": {
      "image/png": "[encoded data removed]",
      "text/plain": [
       "<Figure size 504x360 with 1 Axes>"
      ]
     },
     "metadata": {},
     "output_type": "display_data"
    }
   ],
   "source": [
    "# Yoon Suk-yeol's vote percentage by metropolitan city and province\n",
    "elec_윤석열 = election.pivot_table('윤석열', index='광역시도', aggfunc=sum)\n",
    "elec_윤석열 = elec_윤석열.sort_values(by='윤석열', ascending=False)\n",
    "\n",
    "elec_윤석열['윤석열'].plot(kind='pie',\n",
    "                          figsize=(7,5),\n",
    "                           autopct='%.2f%%'\n",
    "                          )\n",
    "plt.title('윤석열 후보의 광역시도별 투표율')\n",
    "plt.show()"
   ]
  },
  {
   "cell_type": "code",
   "execution_count": 19,
   "id": "5efbe9b7",
   "metadata": {},
   "outputs": [
    {
     "data": {
      "image/png": "[encoded data removed]",
      "text/plain": [
       "<Figure size 504x360 with 1 Axes>"
      ]
     },
     "metadata": {},
     "output_type": "display_data"
    }
   ],
   "source": [
    "# Lee Jae-myung's vote percentage by metropolitan city and province\n",
    "\n",
    "elec_이재명 = election.pivot_table('이재명', index='광역시도', aggfunc=sum)\n",
    "elec_이재명 = elec_이재명.sort_values(by='이재명', ascending=False)\n",
    "\n",
    "elec_이재명['이재명'].plot(kind='pie',\n",
    "                          figsize=(7,5),\n",
    "                           autopct='%.2f%%'\n",
    "                          )\n",
    "plt.title('이재명 후보의 광역시도별 투표율')\n",
    "plt.ylabel(' ')\n",
    "plt.show()"
   ]
  },
  {
   "cell_type": "markdown",
   "id": "7aa10958",
   "metadata": {},
   "source": [
    "# Find the Five regions with the highest number of votes"
   ]
  },
  {
   "cell_type": "code",
   "execution_count": 20,
   "id": "5304f94f",
   "metadata": {},
   "outputs": [
    {
     "data": {
      "text/html": [
       "<div>\n",
       "<style scoped>\n",
       "    .dataframe tbody tr th:only-of-type {\n",
       "        vertical-align: middle;\n",
       "    }\n",
       "\n",
       "    .dataframe tbody tr th {\n",
       "        vertical-align: top;\n",
       "    }\n",
       "\n",
       "    .dataframe thead th {\n",
       "        text-align: right;\n",
       "    }\n",
       "</style>\n",
       "<table border=\"1\" class=\"dataframe\">\n",
       "  <thead>\n",
       "    <tr style=\"text-align: right;\">\n",
       "      <th></th>\n",
       "      <th>시군구</th>\n",
       "      <th>윤석열</th>\n",
       "    </tr>\n",
       "  </thead>\n",
       "  <tbody>\n",
       "    <tr>\n",
       "      <th>23</th>\n",
       "      <td>송파구</td>\n",
       "      <td>255166</td>\n",
       "    </tr>\n",
       "    <tr>\n",
       "      <th>22</th>\n",
       "      <td>강남구</td>\n",
       "      <td>235897</td>\n",
       "    </tr>\n",
       "    <tr>\n",
       "      <th>15</th>\n",
       "      <td>강서구</td>\n",
       "      <td>181510</td>\n",
       "    </tr>\n",
       "    <tr>\n",
       "      <th>21</th>\n",
       "      <td>서초구</td>\n",
       "      <td>179472</td>\n",
       "    </tr>\n",
       "    <tr>\n",
       "      <th>10</th>\n",
       "      <td>노원구</td>\n",
       "      <td>163340</td>\n",
       "    </tr>\n",
       "    <tr>\n",
       "      <th>24</th>\n",
       "      <td>강동구</td>\n",
       "      <td>160593</td>\n",
       "    </tr>\n",
       "    <tr>\n",
       "      <th>20</th>\n",
       "      <td>관악구</td>\n",
       "      <td>151944</td>\n",
       "    </tr>\n",
       "    <tr>\n",
       "      <th>14</th>\n",
       "      <td>양천구</td>\n",
       "      <td>149780</td>\n",
       "    </tr>\n",
       "    <tr>\n",
       "      <th>11</th>\n",
       "      <td>은평구</td>\n",
       "      <td>140666</td>\n",
       "    </tr>\n",
       "    <tr>\n",
       "      <th>19</th>\n",
       "      <td>동작구</td>\n",
       "      <td>135733</td>\n",
       "    </tr>\n",
       "  </tbody>\n",
       "</table>\n",
       "</div>"
      ],
      "text/plain": [
       "    시군구     윤석열\n",
       "23  송파구  255166\n",
       "22  강남구  235897\n",
       "15  강서구  181510\n",
       "21  서초구  179472\n",
       "10  노원구  163340\n",
       "24  강동구  160593\n",
       "20  관악구  151944\n",
       "14  양천구  149780\n",
       "11  은평구  140666\n",
       "19  동작구  135733"
      ]
     },
     "execution_count": 20,
     "metadata": {},
     "output_type": "execute_result"
    }
   ],
   "source": [
    "election_seoul = election[election['광역시도']=='서울특별시']\n",
    "election_seoul_윤석열 = election_seoul.sort_values(by='윤석열', ascending=False)\n",
    "election_seoul_윤석열 = election_seoul_윤석열[['시군구','윤석열']]\n",
    "election_seoul_윤석열.head(10)"
   ]
  },
  {
   "cell_type": "code",
   "execution_count": 21,
   "id": "347a1040",
   "metadata": {},
   "outputs": [
    {
     "data": {
      "text/plain": [
       "0    송파구\n",
       "1    강남구\n",
       "2    강서구\n",
       "3    서초구\n",
       "4    노원구\n",
       "5     기타\n",
       "dtype: object"
      ]
     },
     "execution_count": 21,
     "metadata": {},
     "output_type": "execute_result"
    }
   ],
   "source": [
    "election_seoul_윤석열_label = \\\n",
    "    election_seoul_윤석열[0:5]['시군구'].append(pd.Series('기타')).reset_index(drop=True)\n",
    "\n",
    "election_seoul_윤석열_label"
   ]
  },
  {
   "cell_type": "code",
   "execution_count": 22,
   "id": "27f23bbe",
   "metadata": {},
   "outputs": [],
   "source": [
    "election_seoul_윤석열_data = \\\n",
    "    election_seoul_윤석열[0:5]['윤석열'].\\\n",
    "    append(pd.Series(sum(election_seoul_윤석열[5:]['윤석열']))).reset_index(drop=True)"
   ]
  },
  {
   "cell_type": "code",
   "execution_count": 23,
   "id": "77fa6033",
   "metadata": {},
   "outputs": [
    {
     "data": {
      "image/png": "[encoded data removed]",
      "text/plain": [
       "<Figure size 432x288 with 1 Axes>"
      ]
     },
     "metadata": {},
     "output_type": "display_data"
    }
   ],
   "source": [
    "data = election_seoul_윤석열_data\n",
    "categories = election_seoul_윤석열_label\n",
    "\n",
    "plt.pie(data,\n",
    "        labels=categories,\n",
    "        autopct=\"%.2f%%\"\n",
    "       )\n",
    "plt.title(\"윤석열 후보의 서울 득표 Top5\", fontsize=20)\n",
    "plt.show()"
   ]
  },
  {
   "cell_type": "markdown",
   "id": "5d59fe1c",
   "metadata": {},
   "source": [
    "# Find the number of votes in the candidate's birth region"
   ]
  },
  {
   "cell_type": "code",
   "execution_count": 24,
   "id": "2b526ad1",
   "metadata": {},
   "outputs": [
    {
     "data": {
      "text/html": [
       "<div>\n",
       "<style scoped>\n",
       "    .dataframe tbody tr th:only-of-type {\n",
       "        vertical-align: middle;\n",
       "    }\n",
       "\n",
       "    .dataframe tbody tr th {\n",
       "        vertical-align: top;\n",
       "    }\n",
       "\n",
       "    .dataframe thead th {\n",
       "        text-align: right;\n",
       "    }\n",
       "</style>\n",
       "<table border=\"1\" class=\"dataframe\">\n",
       "  <thead>\n",
       "    <tr style=\"text-align: right;\">\n",
       "      <th></th>\n",
       "      <th>광역시도</th>\n",
       "      <th>시군구</th>\n",
       "      <th>선거인수</th>\n",
       "      <th>투표수</th>\n",
       "      <th>이재명</th>\n",
       "      <th>윤석열</th>\n",
       "      <th>심상정</th>\n",
       "      <th>electionSum</th>\n",
       "      <th>electionRatio</th>\n",
       "    </tr>\n",
       "  </thead>\n",
       "  <tbody>\n",
       "    <tr>\n",
       "      <th>7</th>\n",
       "      <td>서울특별시</td>\n",
       "      <td>성북구</td>\n",
       "      <td>375880</td>\n",
       "      <td>292187</td>\n",
       "      <td>142702</td>\n",
       "      <td>135044</td>\n",
       "      <td>8952</td>\n",
       "      <td>286698</td>\n",
       "      <td>98.12</td>\n",
       "    </tr>\n",
       "  </tbody>\n",
       "</table>\n",
       "</div>"
      ],
      "text/plain": [
       "    광역시도  시군구    선거인수     투표수     이재명     윤석열   심상정  electionSum  \\\n",
       "7  서울특별시  성북구  375880  292187  142702  135044  8952       286698   \n",
       "\n",
       "   electionRatio  \n",
       "7          98.12  "
      ]
     },
     "execution_count": 24,
     "metadata": {},
     "output_type": "execute_result"
    }
   ],
   "source": [
    "# 윤석열 후보 : 출생지는 성북구\n",
    "pob_윤석열 = election[election['시군구']=='성북구']\n",
    "pob_윤석열"
   ]
  },
  {
   "cell_type": "code",
   "execution_count": 25,
   "id": "a9f440fa",
   "metadata": {},
   "outputs": [],
   "source": [
    "pob_윤석열_data = \\\n",
    "    pd.Series([int(pob_윤석열['윤석열']), int(pob_윤석열['이재명']),\\\n",
    "           int(pob_윤석열['심상정'])]).append(pob_윤석열['투표수'] - \\\n",
    "                                        pob_윤석열['electionSum']).reset_index(drop=True)"
   ]
  },
  {
   "cell_type": "code",
   "execution_count": 26,
   "id": "22c4fe6f",
   "metadata": {},
   "outputs": [
    {
     "data": {
      "image/png": "[encoded data removed]",
      "text/plain": [
       "<Figure size 432x288 with 1 Axes>"
      ]
     },
     "metadata": {},
     "output_type": "display_data"
    }
   ],
   "source": [
    "data = pob_윤석열_data\n",
    "categories = ['윤석열','이재명','심상정','기타']\n",
    "\n",
    "plt.pie(data,\n",
    "        labels=categories,\n",
    "        autopct=\"%.2f%%\"\n",
    "       )\n",
    "plt.title(\"성북구의 후보별 득표율\", fontsize=20)\n",
    "plt.show()"
   ]
  },
  {
   "cell_type": "markdown",
   "id": "561a7874",
   "metadata": {},
   "source": [
    "# 투표수가 가장 많은 4지역(광역시도)의 각 후보별 득표수를 막대그래프로 표현"
   ]
  },
  {
   "cell_type": "code",
   "execution_count": 27,
   "id": "b9377432",
   "metadata": {},
   "outputs": [
    {
     "data": {
      "text/plain": [
       "['경기도', '서울특별시', '부산광역시', '경상남도']"
      ]
     },
     "execution_count": 27,
     "metadata": {},
     "output_type": "execute_result"
    }
   ],
   "source": [
    "# Find the four regions with the highest number of votes\n",
    "\n",
    "top4Area = list(elec_sum_order.index[0:4])\n",
    "top4Area"
   ]
  },
  {
   "cell_type": "code",
   "execution_count": 28,
   "id": "578b1042",
   "metadata": {},
   "outputs": [
    {
     "data": {
      "text/html": [
       "<div>\n",
       "<style scoped>\n",
       "    .dataframe tbody tr th:only-of-type {\n",
       "        vertical-align: middle;\n",
       "    }\n",
       "\n",
       "    .dataframe tbody tr th {\n",
       "        vertical-align: top;\n",
       "    }\n",
       "\n",
       "    .dataframe thead th {\n",
       "        text-align: right;\n",
       "    }\n",
       "</style>\n",
       "<table border=\"1\" class=\"dataframe\">\n",
       "  <thead>\n",
       "    <tr style=\"text-align: right;\">\n",
       "      <th></th>\n",
       "      <th>윤석열</th>\n",
       "    </tr>\n",
       "    <tr>\n",
       "      <th>광역시도</th>\n",
       "      <th></th>\n",
       "    </tr>\n",
       "  </thead>\n",
       "  <tbody>\n",
       "    <tr>\n",
       "      <th>강원도</th>\n",
       "      <td>544980</td>\n",
       "    </tr>\n",
       "    <tr>\n",
       "      <th>경기도</th>\n",
       "      <td>3859666</td>\n",
       "    </tr>\n",
       "    <tr>\n",
       "      <th>경상남도</th>\n",
       "      <td>1237346</td>\n",
       "    </tr>\n",
       "    <tr>\n",
       "      <th>경상북도</th>\n",
       "      <td>1278922</td>\n",
       "    </tr>\n",
       "    <tr>\n",
       "      <th>광주광역시</th>\n",
       "      <td>124511</td>\n",
       "    </tr>\n",
       "  </tbody>\n",
       "</table>\n",
       "</div>"
      ],
      "text/plain": [
       "           윤석열\n",
       "광역시도          \n",
       "강원도     544980\n",
       "경기도    3859666\n",
       "경상남도   1237346\n",
       "경상북도   1278922\n",
       "광주광역시   124511"
      ]
     },
     "execution_count": 28,
     "metadata": {},
     "output_type": "execute_result"
    }
   ],
   "source": [
    "# Sum of Yoon Suk-yeol's votes by metropolitan city and province\n",
    "elec_윤석열 = election.pivot_table('윤석열', index='광역시도', aggfunc=sum)\n",
    "elec_윤석열.head()"
   ]
  },
  {
   "cell_type": "code",
   "execution_count": 29,
   "id": "e23e75c9",
   "metadata": {},
   "outputs": [
    {
     "data": {
      "text/html": [
       "<div>\n",
       "<style scoped>\n",
       "    .dataframe tbody tr th:only-of-type {\n",
       "        vertical-align: middle;\n",
       "    }\n",
       "\n",
       "    .dataframe tbody tr th {\n",
       "        vertical-align: top;\n",
       "    }\n",
       "\n",
       "    .dataframe thead th {\n",
       "        text-align: right;\n",
       "    }\n",
       "</style>\n",
       "<table border=\"1\" class=\"dataframe\">\n",
       "  <thead>\n",
       "    <tr style=\"text-align: right;\">\n",
       "      <th></th>\n",
       "      <th>이재명</th>\n",
       "    </tr>\n",
       "    <tr>\n",
       "      <th>광역시도</th>\n",
       "      <th></th>\n",
       "    </tr>\n",
       "  </thead>\n",
       "  <tbody>\n",
       "    <tr>\n",
       "      <th>강원도</th>\n",
       "      <td>419644</td>\n",
       "    </tr>\n",
       "    <tr>\n",
       "      <th>경기도</th>\n",
       "      <td>4297931</td>\n",
       "    </tr>\n",
       "    <tr>\n",
       "      <th>경상남도</th>\n",
       "      <td>794130</td>\n",
       "    </tr>\n",
       "    <tr>\n",
       "      <th>경상북도</th>\n",
       "      <td>418371</td>\n",
       "    </tr>\n",
       "    <tr>\n",
       "      <th>광주광역시</th>\n",
       "      <td>830058</td>\n",
       "    </tr>\n",
       "  </tbody>\n",
       "</table>\n",
       "</div>"
      ],
      "text/plain": [
       "           이재명\n",
       "광역시도          \n",
       "강원도     419644\n",
       "경기도    4297931\n",
       "경상남도    794130\n",
       "경상북도    418371\n",
       "광주광역시   830058"
      ]
     },
     "execution_count": 29,
     "metadata": {},
     "output_type": "execute_result"
    }
   ],
   "source": [
    "# Sum of Lee Jae-myung's votes by metropolitan city and province\n",
    "elec_이재명 = election.pivot_table('이재명', index='광역시도', aggfunc=sum)\n",
    "elec_이재명.head()"
   ]
  },
  {
   "cell_type": "code",
   "execution_count": 30,
   "id": "35ecdb6b",
   "metadata": {},
   "outputs": [
    {
     "data": {
      "text/html": [
       "<div>\n",
       "<style scoped>\n",
       "    .dataframe tbody tr th:only-of-type {\n",
       "        vertical-align: middle;\n",
       "    }\n",
       "\n",
       "    .dataframe tbody tr th {\n",
       "        vertical-align: top;\n",
       "    }\n",
       "\n",
       "    .dataframe thead th {\n",
       "        text-align: right;\n",
       "    }\n",
       "</style>\n",
       "<table border=\"1\" class=\"dataframe\">\n",
       "  <thead>\n",
       "    <tr style=\"text-align: right;\">\n",
       "      <th></th>\n",
       "      <th>심상정</th>\n",
       "    </tr>\n",
       "    <tr>\n",
       "      <th>광역시도</th>\n",
       "      <th></th>\n",
       "    </tr>\n",
       "  </thead>\n",
       "  <tbody>\n",
       "    <tr>\n",
       "      <th>강원도</th>\n",
       "      <td>25031</td>\n",
       "    </tr>\n",
       "    <tr>\n",
       "      <th>경기도</th>\n",
       "      <td>201113</td>\n",
       "    </tr>\n",
       "    <tr>\n",
       "      <th>경상남도</th>\n",
       "      <td>52591</td>\n",
       "    </tr>\n",
       "    <tr>\n",
       "      <th>경상북도</th>\n",
       "      <td>33123</td>\n",
       "    </tr>\n",
       "    <tr>\n",
       "      <th>광주광역시</th>\n",
       "      <td>14865</td>\n",
       "    </tr>\n",
       "  </tbody>\n",
       "</table>\n",
       "</div>"
      ],
      "text/plain": [
       "          심상정\n",
       "광역시도         \n",
       "강원도     25031\n",
       "경기도    201113\n",
       "경상남도    52591\n",
       "경상북도    33123\n",
       "광주광역시   14865"
      ]
     },
     "execution_count": 30,
     "metadata": {},
     "output_type": "execute_result"
    }
   ],
   "source": [
    "# Sum of Sim Sang-jung's votes by metropolitan city and province\n",
    "elec_심상정 = election.pivot_table('심상정', index='광역시도', aggfunc=sum)\n",
    "elec_심상정.head()"
   ]
  },
  {
   "cell_type": "code",
   "execution_count": 31,
   "id": "152e420c",
   "metadata": {},
   "outputs": [
    {
     "data": {
      "text/plain": [
       "0    3859666\n",
       "1    4297931\n",
       "2     201113\n",
       "dtype: int64"
      ]
     },
     "execution_count": 31,
     "metadata": {},
     "output_type": "execute_result"
    }
   ],
   "source": [
    "# Find the number of votes in the region with the highest votes\n",
    "top4_1 = pd.Series(int(elec_윤석열[elec_윤석열.index == top4Area[0]]['윤석열']))\n",
    "top4_1 = top4_1.append(\\\n",
    "      pd.Series(int(elec_이재명[elec_이재명.index == top4Area[0]]['이재명'])))\n",
    "top4_1 = top4_1.append(\\\n",
    "      pd.Series(int(elec_심상정[elec_심상정.index == top4Area[0]]['심상정'])))\n",
    "top4_1.reset_index(drop=True)"
   ]
  },
  {
   "cell_type": "code",
   "execution_count": 32,
   "id": "38ca79c4",
   "metadata": {},
   "outputs": [
    {
     "data": {
      "text/plain": [
       "0    3255747\n",
       "1    2944981\n",
       "2     180324\n",
       "dtype: int64"
      ]
     },
     "execution_count": 32,
     "metadata": {},
     "output_type": "execute_result"
    }
   ],
   "source": [
    "# Find the number of votes in the region with the second highest votes\n",
    "top4_2 = pd.Series(int(elec_윤석열[elec_윤석열.index == top4Area[1]]['윤석열']))\n",
    "top4_2 = top4_2.append(\\\n",
    "      pd.Series(int(elec_이재명[elec_이재명.index == top4Area[1]]['이재명'])))\n",
    "top4_2 = top4_2.append(\\\n",
    "      pd.Series(int(elec_심상정[elec_심상정.index == top4Area[1]]['심상정'])))\n",
    "top4_2.reset_index(drop=True)"
   ]
  },
  {
   "cell_type": "code",
   "execution_count": 33,
   "id": "1bafffa5",
   "metadata": {},
   "outputs": [
    {
     "data": {
      "text/plain": [
       "0    1270072\n",
       "1     831896\n",
       "2      47541\n",
       "dtype: int64"
      ]
     },
     "execution_count": 33,
     "metadata": {},
     "output_type": "execute_result"
    }
   ],
   "source": [
    "# Find the number of votes in the region with the third highest votes\n",
    "top4_3 = pd.Series(int(elec_윤석열[elec_윤석열.index == top4Area[2]]['윤석열']))\n",
    "top4_3 = top4_3.append(\\\n",
    "      pd.Series(int(elec_이재명[elec_이재명.index == top4Area[2]]['이재명'])))\n",
    "top4_3 = top4_3.append(\\\n",
    "      pd.Series(int(elec_심상정[elec_심상정.index == top4Area[2]]['심상정'])))\n",
    "top4_3.reset_index(drop=True)"
   ]
  },
  {
   "cell_type": "code",
   "execution_count": 34,
   "id": "57853103",
   "metadata": {},
   "outputs": [
    {
     "data": {
      "text/plain": [
       "0    1237346\n",
       "1     794130\n",
       "2      52591\n",
       "dtype: int64"
      ]
     },
     "execution_count": 34,
     "metadata": {},
     "output_type": "execute_result"
    }
   ],
   "source": [
    "# Find the number of votes in the region with the fourth highest votes\n",
    "top4_4 = pd.Series(int(elec_윤석열[elec_윤석열.index == top4Area[3]]['윤석열']))\n",
    "top4_4 = top4_4.append(\\\n",
    "      pd.Series(int(elec_이재명[elec_이재명.index == top4Area[3]]['이재명'])))\n",
    "top4_4 = top4_4.append(\\\n",
    "      pd.Series(int(elec_심상정[elec_심상정.index == top4Area[3]]['심상정'])))\n",
    "top4_4.reset_index(drop=True)"
   ]
  },
  {
   "cell_type": "code",
   "execution_count": 35,
   "id": "1353b1da",
   "metadata": {},
   "outputs": [
    {
     "data": {
      "text/html": [
       "<div>\n",
       "<style scoped>\n",
       "    .dataframe tbody tr th:only-of-type {\n",
       "        vertical-align: middle;\n",
       "    }\n",
       "\n",
       "    .dataframe tbody tr th {\n",
       "        vertical-align: top;\n",
       "    }\n",
       "\n",
       "    .dataframe thead th {\n",
       "        text-align: right;\n",
       "    }\n",
       "</style>\n",
       "<table border=\"1\" class=\"dataframe\">\n",
       "  <thead>\n",
       "    <tr style=\"text-align: right;\">\n",
       "      <th></th>\n",
       "      <th>경기도</th>\n",
       "      <th>서울특별시</th>\n",
       "      <th>부산광역시</th>\n",
       "      <th>경상남도</th>\n",
       "    </tr>\n",
       "  </thead>\n",
       "  <tbody>\n",
       "    <tr>\n",
       "      <th>윤석열</th>\n",
       "      <td>3859666</td>\n",
       "      <td>3255747</td>\n",
       "      <td>1270072</td>\n",
       "      <td>1237346</td>\n",
       "    </tr>\n",
       "    <tr>\n",
       "      <th>이재명</th>\n",
       "      <td>4297931</td>\n",
       "      <td>2944981</td>\n",
       "      <td>831896</td>\n",
       "      <td>794130</td>\n",
       "    </tr>\n",
       "    <tr>\n",
       "      <th>심상정</th>\n",
       "      <td>201113</td>\n",
       "      <td>180324</td>\n",
       "      <td>47541</td>\n",
       "      <td>52591</td>\n",
       "    </tr>\n",
       "  </tbody>\n",
       "</table>\n",
       "</div>"
      ],
      "text/plain": [
       "         경기도    서울특별시    부산광역시     경상남도\n",
       "윤석열  3859666  3255747  1270072  1237346\n",
       "이재명  4297931  2944981   831896   794130\n",
       "심상정   201113   180324    47541    52591"
      ]
     },
     "execution_count": 35,
     "metadata": {},
     "output_type": "execute_result"
    }
   ],
   "source": [
    "# Convert to dataFrame\n",
    "data = {top4Area[0] : list(top4_1),\n",
    "        top4Area[1] : list(top4_2),\n",
    "        top4Area[2] : list(top4_3),\n",
    "        top4Area[3] : list(top4_4),\n",
    "       }\n",
    "top4 = pd.DataFrame(data, index=['윤석열','이재명','심상정'])\n",
    "top4"
   ]
  },
  {
   "cell_type": "code",
   "execution_count": 36,
   "id": "67d91ed9",
   "metadata": {},
   "outputs": [
    {
     "name": "stdout",
     "output_type": "stream",
     "text": [
      "<class 'pandas.core.frame.DataFrame'>\n",
      "Index: 3 entries, 윤석열 to 심상정\n",
      "Data columns (total 4 columns):\n",
      " #   Column  Non-Null Count  Dtype\n",
      "---  ------  --------------  -----\n",
      " 0   경기도     3 non-null      int64\n",
      " 1   서울특별시   3 non-null      int64\n",
      " 2   부산광역시   3 non-null      int64\n",
      " 3   경상남도    3 non-null      int64\n",
      "dtypes: int64(4)\n",
      "memory usage: 120.0+ bytes\n"
     ]
    }
   ],
   "source": [
    "top4.info()"
   ]
  },
  {
   "cell_type": "code",
   "execution_count": 37,
   "id": "dbf99f8d",
   "metadata": {},
   "outputs": [
    {
     "data": {
      "text/html": [
       "<div>\n",
       "<style scoped>\n",
       "    .dataframe tbody tr th:only-of-type {\n",
       "        vertical-align: middle;\n",
       "    }\n",
       "\n",
       "    .dataframe tbody tr th {\n",
       "        vertical-align: top;\n",
       "    }\n",
       "\n",
       "    .dataframe thead th {\n",
       "        text-align: right;\n",
       "    }\n",
       "</style>\n",
       "<table border=\"1\" class=\"dataframe\">\n",
       "  <thead>\n",
       "    <tr style=\"text-align: right;\">\n",
       "      <th></th>\n",
       "      <th>경기도</th>\n",
       "      <th>서울특별시</th>\n",
       "      <th>부산광역시</th>\n",
       "      <th>경상남도</th>\n",
       "    </tr>\n",
       "  </thead>\n",
       "  <tbody>\n",
       "    <tr>\n",
       "      <th>윤석열</th>\n",
       "      <td>3859.666</td>\n",
       "      <td>3255.747</td>\n",
       "      <td>1270.072</td>\n",
       "      <td>1237.346</td>\n",
       "    </tr>\n",
       "    <tr>\n",
       "      <th>이재명</th>\n",
       "      <td>4297.931</td>\n",
       "      <td>2944.981</td>\n",
       "      <td>831.896</td>\n",
       "      <td>794.130</td>\n",
       "    </tr>\n",
       "    <tr>\n",
       "      <th>심상정</th>\n",
       "      <td>201.113</td>\n",
       "      <td>180.324</td>\n",
       "      <td>47.541</td>\n",
       "      <td>52.591</td>\n",
       "    </tr>\n",
       "  </tbody>\n",
       "</table>\n",
       "</div>"
      ],
      "text/plain": [
       "          경기도     서울특별시     부산광역시      경상남도\n",
       "윤석열  3859.666  3255.747  1270.072  1237.346\n",
       "이재명  4297.931  2944.981   831.896   794.130\n",
       "심상정   201.113   180.324    47.541    52.591"
      ]
     },
     "execution_count": 37,
     "metadata": {},
     "output_type": "execute_result"
    }
   ],
   "source": [
    "top5 = top4 / 1000\n",
    "top5"
   ]
  },
  {
   "cell_type": "code",
   "execution_count": 38,
   "id": "af961486",
   "metadata": {},
   "outputs": [
    {
     "data": {
      "image/png": "[encoded data removed]",
      "text/plain": [
       "<Figure size 432x288 with 1 Axes>"
      ]
     },
     "metadata": {
      "needs_background": "light"
     },
     "output_type": "display_data"
    }
   ],
   "source": [
    "top5.T.plot.bar(rot=0,\n",
    "                width=0.7,\n",
    "                color=['red','#87CEEB','yellow']\n",
    "               )\n",
    "plt.grid()\n",
    "plt.title('투표수가 가장 많은 4지역의 후보별 득표수 차이')\n",
    "plt.xlabel('광역시도')\n",
    "plt.ylabel('득표수(단위:천명)')\n",
    "plt.show()"
   ]
  },
  {
   "cell_type": "code",
   "execution_count": 40,
   "id": "947d4a98",
   "metadata": {},
   "outputs": [
    {
     "data": {
      "text/html": [
       "<div>\n",
       "<style scoped>\n",
       "    .dataframe tbody tr th:only-of-type {\n",
       "        vertical-align: middle;\n",
       "    }\n",
       "\n",
       "    .dataframe tbody tr th {\n",
       "        vertical-align: top;\n",
       "    }\n",
       "\n",
       "    .dataframe thead th {\n",
       "        text-align: right;\n",
       "    }\n",
       "</style>\n",
       "<table border=\"1\" class=\"dataframe\">\n",
       "  <thead>\n",
       "    <tr style=\"text-align: right;\">\n",
       "      <th></th>\n",
       "      <th>윤석열</th>\n",
       "      <th>이재명</th>\n",
       "      <th>심상정</th>\n",
       "    </tr>\n",
       "  </thead>\n",
       "  <tbody>\n",
       "    <tr>\n",
       "      <th>경기도</th>\n",
       "      <td>3859.666</td>\n",
       "      <td>4297.931</td>\n",
       "      <td>201.113</td>\n",
       "    </tr>\n",
       "    <tr>\n",
       "      <th>서울특별시</th>\n",
       "      <td>3255.747</td>\n",
       "      <td>2944.981</td>\n",
       "      <td>180.324</td>\n",
       "    </tr>\n",
       "    <tr>\n",
       "      <th>부산광역시</th>\n",
       "      <td>1270.072</td>\n",
       "      <td>831.896</td>\n",
       "      <td>47.541</td>\n",
       "    </tr>\n",
       "    <tr>\n",
       "      <th>경상남도</th>\n",
       "      <td>1237.346</td>\n",
       "      <td>794.130</td>\n",
       "      <td>52.591</td>\n",
       "    </tr>\n",
       "  </tbody>\n",
       "</table>\n",
       "</div>"
      ],
      "text/plain": [
       "            윤석열       이재명      심상정\n",
       "경기도    3859.666  4297.931  201.113\n",
       "서울특별시  3255.747  2944.981  180.324\n",
       "부산광역시  1270.072   831.896   47.541\n",
       "경상남도   1237.346   794.130   52.591"
      ]
     },
     "execution_count": 40,
     "metadata": {},
     "output_type": "execute_result"
    }
   ],
   "source": [
    "top5.T"
   ]
  },
  {
   "cell_type": "code",
   "execution_count": 54,
   "id": "607f5b8a",
   "metadata": {},
   "outputs": [
    {
     "data": {
      "text/html": [
       "<div>\n",
       "<style scoped>\n",
       "    .dataframe tbody tr th:only-of-type {\n",
       "        vertical-align: middle;\n",
       "    }\n",
       "\n",
       "    .dataframe tbody tr th {\n",
       "        vertical-align: top;\n",
       "    }\n",
       "\n",
       "    .dataframe thead th {\n",
       "        text-align: right;\n",
       "    }\n",
       "</style>\n",
       "<table border=\"1\" class=\"dataframe\">\n",
       "  <thead>\n",
       "    <tr style=\"text-align: right;\">\n",
       "      <th></th>\n",
       "      <th>윤석열</th>\n",
       "      <th>이재명</th>\n",
       "      <th>심상정</th>\n",
       "    </tr>\n",
       "  </thead>\n",
       "  <tbody>\n",
       "    <tr>\n",
       "      <th>100</th>\n",
       "      <td>236055</td>\n",
       "      <td>283324</td>\n",
       "      <td>12955</td>\n",
       "    </tr>\n",
       "    <tr>\n",
       "      <th>85</th>\n",
       "      <td>224331</td>\n",
       "      <td>285227</td>\n",
       "      <td>13249</td>\n",
       "    </tr>\n",
       "    <tr>\n",
       "      <th>98</th>\n",
       "      <td>203075</td>\n",
       "      <td>239179</td>\n",
       "      <td>10089</td>\n",
       "    </tr>\n",
       "    <tr>\n",
       "      <th>23</th>\n",
       "      <td>255166</td>\n",
       "      <td>180490</td>\n",
       "      <td>10652</td>\n",
       "    </tr>\n",
       "    <tr>\n",
       "      <th>15</th>\n",
       "      <td>181510</td>\n",
       "      <td>190000</td>\n",
       "      <td>11100</td>\n",
       "    </tr>\n",
       "  </tbody>\n",
       "</table>\n",
       "</div>"
      ],
      "text/plain": [
       "        윤석열     이재명    심상정\n",
       "100  236055  283324  12955\n",
       "85   224331  285227  13249\n",
       "98   203075  239179  10089\n",
       "23   255166  180490  10652\n",
       "15   181510  190000  11100"
      ]
     },
     "execution_count": 54,
     "metadata": {},
     "output_type": "execute_result"
    }
   ],
   "source": [
    "# Candidate votes in the top 5 regions by number of votes\n",
    "\n",
    "elec_top5 = \\\n",
    "    election.sort_values(by='투표수', ascending=False)[0:5]\\\n",
    "    [['윤석열','이재명','심상정']]\n",
    "elec_top5"
   ]
  },
  {
   "cell_type": "code",
   "execution_count": 60,
   "id": "a59674d4",
   "metadata": {},
   "outputs": [
    {
     "data": {
      "text/plain": [
       "100      경기도 화성시\n",
       "85       경기도 부천시\n",
       "98      경기도 남양주시\n",
       "23     서울특별시 송파구\n",
       "15     서울특별시 강서구\n",
       "dtype: object"
      ]
     },
     "execution_count": 60,
     "metadata": {},
     "output_type": "execute_result"
    }
   ],
   "source": [
    "# Create index\n",
    "city = \\\n",
    "    election.sort_values(by='투표수', ascending=False)[0:5]['광역시도'] + \" \" + \\\n",
    "    election.sort_values(by='투표수', ascending=False)[0:5]['시군구']\n",
    "city"
   ]
  },
  {
   "cell_type": "code",
   "execution_count": 61,
   "id": "2f7adaa7",
   "metadata": {},
   "outputs": [
    {
     "data": {
      "text/html": [
       "<div>\n",
       "<style scoped>\n",
       "    .dataframe tbody tr th:only-of-type {\n",
       "        vertical-align: middle;\n",
       "    }\n",
       "\n",
       "    .dataframe tbody tr th {\n",
       "        vertical-align: top;\n",
       "    }\n",
       "\n",
       "    .dataframe thead th {\n",
       "        text-align: right;\n",
       "    }\n",
       "</style>\n",
       "<table border=\"1\" class=\"dataframe\">\n",
       "  <thead>\n",
       "    <tr style=\"text-align: right;\">\n",
       "      <th></th>\n",
       "      <th>윤석열</th>\n",
       "      <th>이재명</th>\n",
       "      <th>심상정</th>\n",
       "    </tr>\n",
       "  </thead>\n",
       "  <tbody>\n",
       "    <tr>\n",
       "      <th>경기도 화성시</th>\n",
       "      <td>236055</td>\n",
       "      <td>283324</td>\n",
       "      <td>12955</td>\n",
       "    </tr>\n",
       "    <tr>\n",
       "      <th>경기도 부천시</th>\n",
       "      <td>224331</td>\n",
       "      <td>285227</td>\n",
       "      <td>13249</td>\n",
       "    </tr>\n",
       "    <tr>\n",
       "      <th>경기도 남양주시</th>\n",
       "      <td>203075</td>\n",
       "      <td>239179</td>\n",
       "      <td>10089</td>\n",
       "    </tr>\n",
       "    <tr>\n",
       "      <th>서울특별시 송파구</th>\n",
       "      <td>255166</td>\n",
       "      <td>180490</td>\n",
       "      <td>10652</td>\n",
       "    </tr>\n",
       "    <tr>\n",
       "      <th>서울특별시 강서구</th>\n",
       "      <td>181510</td>\n",
       "      <td>190000</td>\n",
       "      <td>11100</td>\n",
       "    </tr>\n",
       "  </tbody>\n",
       "</table>\n",
       "</div>"
      ],
      "text/plain": [
       "              윤석열     이재명    심상정\n",
       "경기도 화성시    236055  283324  12955\n",
       "경기도 부천시    224331  285227  13249\n",
       "경기도 남양주시   203075  239179  10089\n",
       "서울특별시 송파구  255166  180490  10652\n",
       "서울특별시 강서구  181510  190000  11100"
      ]
     },
     "execution_count": 61,
     "metadata": {},
     "output_type": "execute_result"
    }
   ],
   "source": [
    "elec_top5.index = city\n",
    "elec_top5"
   ]
  },
  {
   "cell_type": "code",
   "execution_count": 72,
   "id": "6eda0ff2",
   "metadata": {},
   "outputs": [
    {
     "data": {
      "image/png": "[encoded data removed]",
      "text/plain": [
       "<Figure size 432x288 with 1 Axes>"
      ]
     },
     "metadata": {
      "needs_background": "light"
     },
     "output_type": "display_data"
    }
   ],
   "source": [
    "elec_top5.plot.bar(width=0.7,\n",
    "                   color=['red','#87CEEB','yellow'],\n",
    "                   rot = 45,\n",
    "                   fontsize=7\n",
    ")\n",
    "plt.grid()\n",
    "plt.xlabel('시군구')\n",
    "plt.ylabel('득표수')\n",
    "\n",
    "plt.show()"
   ]
  },
  {
   "cell_type": "code",
   "execution_count": null,
   "id": "19e5ae07",
   "metadata": {},
   "outputs": [],
   "source": []
  }
 ],
 "metadata": {
  "kernelspec": {
   "display_name": "Python 3 (ipykernel)",
   "language": "python",
   "name": "python3"
  },
  "language_info": {
   "codemirror_mode": {
    "name": "ipython",
    "version": 3
   },
   "file_extension": ".py",
   "mimetype": "text/x-python",
   "name": "python",
   "nbconvert_exporter": "python",
   "pygments_lexer": "ipython3",
   "version": "3.9.12"
  }
 },
 "nbformat": 4,
 "nbformat_minor": 5
}
